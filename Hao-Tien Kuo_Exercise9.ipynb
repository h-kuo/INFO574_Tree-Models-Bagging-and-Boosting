{
 "cells": [
  {
   "cell_type": "markdown",
   "id": "0082a12c-5fc4-402b-a320-56b7a589973b",
   "metadata": {},
   "source": [
    "# Exercise 09 (module 11)\n",
    "Hao-Tien Kuo"
   ]
  },
  {
   "cell_type": "code",
   "execution_count": 1,
   "id": "3c7af349-83e7-41ad-bee9-3f7344c63d68",
   "metadata": {},
   "outputs": [],
   "source": [
    "import numpy as np\n",
    "import pandas as pd\n",
    "import statistics\n",
    "import seaborn as sns\n",
    "import matplotlib.pyplot as plt\n",
    "\n",
    "df = pd.read_csv('county_level_election.csv')"
   ]
  },
  {
   "cell_type": "code",
   "execution_count": 2,
   "id": "4dda9447-698b-4d92-95f0-ecbfe7017da9",
   "metadata": {},
   "outputs": [
    {
     "data": {
      "text/html": [
       "<div>\n",
       "<style scoped>\n",
       "    .dataframe tbody tr th:only-of-type {\n",
       "        vertical-align: middle;\n",
       "    }\n",
       "\n",
       "    .dataframe tbody tr th {\n",
       "        vertical-align: top;\n",
       "    }\n",
       "\n",
       "    .dataframe thead th {\n",
       "        text-align: right;\n",
       "    }\n",
       "</style>\n",
       "<table border=\"1\" class=\"dataframe\">\n",
       "  <thead>\n",
       "    <tr style=\"text-align: right;\">\n",
       "      <th></th>\n",
       "      <th>state</th>\n",
       "      <th>fipscode</th>\n",
       "      <th>county</th>\n",
       "      <th>population</th>\n",
       "      <th>hispanic</th>\n",
       "      <th>minority</th>\n",
       "      <th>female</th>\n",
       "      <th>unemployed</th>\n",
       "      <th>income</th>\n",
       "      <th>nodegree</th>\n",
       "      <th>bachelor</th>\n",
       "      <th>inactivity</th>\n",
       "      <th>obesity</th>\n",
       "      <th>density</th>\n",
       "      <th>cancer</th>\n",
       "      <th>votergap</th>\n",
       "      <th>trump</th>\n",
       "      <th>clinton</th>\n",
       "    </tr>\n",
       "  </thead>\n",
       "  <tbody>\n",
       "    <tr>\n",
       "      <th>0</th>\n",
       "      <td>Colorado</td>\n",
       "      <td>8117</td>\n",
       "      <td>Summit County</td>\n",
       "      <td>27239</td>\n",
       "      <td>15.173</td>\n",
       "      <td>4.918</td>\n",
       "      <td>45.996</td>\n",
       "      <td>2.5</td>\n",
       "      <td>68352</td>\n",
       "      <td>5.4</td>\n",
       "      <td>48.1</td>\n",
       "      <td>8.1</td>\n",
       "      <td>13.1</td>\n",
       "      <td>46.0</td>\n",
       "      <td>46.2</td>\n",
       "      <td>-27.632</td>\n",
       "      <td>31.530</td>\n",
       "      <td>59.162</td>\n",
       "    </tr>\n",
       "    <tr>\n",
       "      <th>1</th>\n",
       "      <td>Colorado</td>\n",
       "      <td>8037</td>\n",
       "      <td>Eagle County</td>\n",
       "      <td>53653</td>\n",
       "      <td>30.040</td>\n",
       "      <td>5.169</td>\n",
       "      <td>47.231</td>\n",
       "      <td>3.1</td>\n",
       "      <td>76661</td>\n",
       "      <td>10.1</td>\n",
       "      <td>47.3</td>\n",
       "      <td>9.4</td>\n",
       "      <td>11.8</td>\n",
       "      <td>31.0</td>\n",
       "      <td>47.1</td>\n",
       "      <td>-19.897</td>\n",
       "      <td>36.058</td>\n",
       "      <td>55.955</td>\n",
       "    </tr>\n",
       "    <tr>\n",
       "      <th>2</th>\n",
       "      <td>Idaho</td>\n",
       "      <td>16067</td>\n",
       "      <td>Minidoka County</td>\n",
       "      <td>19226</td>\n",
       "      <td>34.070</td>\n",
       "      <td>5.611</td>\n",
       "      <td>49.318</td>\n",
       "      <td>3.7</td>\n",
       "      <td>46332</td>\n",
       "      <td>24.1</td>\n",
       "      <td>11.8</td>\n",
       "      <td>18.3</td>\n",
       "      <td>34.2</td>\n",
       "      <td>80.0</td>\n",
       "      <td>61.8</td>\n",
       "      <td>54.148</td>\n",
       "      <td>71.135</td>\n",
       "      <td>16.987</td>\n",
       "    </tr>\n",
       "    <tr>\n",
       "      <th>3</th>\n",
       "      <td>Colorado</td>\n",
       "      <td>8113</td>\n",
       "      <td>San Miguel County</td>\n",
       "      <td>7558</td>\n",
       "      <td>10.154</td>\n",
       "      <td>4.747</td>\n",
       "      <td>46.808</td>\n",
       "      <td>3.7</td>\n",
       "      <td>59603</td>\n",
       "      <td>4.7</td>\n",
       "      <td>54.4</td>\n",
       "      <td>12.4</td>\n",
       "      <td>16.7</td>\n",
       "      <td>5.7</td>\n",
       "      <td>62.6</td>\n",
       "      <td>-44.769</td>\n",
       "      <td>23.892</td>\n",
       "      <td>68.662</td>\n",
       "    </tr>\n",
       "    <tr>\n",
       "      <th>4</th>\n",
       "      <td>Utah</td>\n",
       "      <td>49051</td>\n",
       "      <td>Wasatch County</td>\n",
       "      <td>21600</td>\n",
       "      <td>13.244</td>\n",
       "      <td>4.125</td>\n",
       "      <td>48.812</td>\n",
       "      <td>3.4</td>\n",
       "      <td>65207</td>\n",
       "      <td>9.5</td>\n",
       "      <td>34.4</td>\n",
       "      <td>13.9</td>\n",
       "      <td>23.0</td>\n",
       "      <td>257.8</td>\n",
       "      <td>68.3</td>\n",
       "      <td>25.357</td>\n",
       "      <td>50.471</td>\n",
       "      <td>25.114</td>\n",
       "    </tr>\n",
       "  </tbody>\n",
       "</table>\n",
       "</div>"
      ],
      "text/plain": [
       "      state  fipscode             county  population  hispanic  minority  \\\n",
       "0  Colorado      8117      Summit County       27239    15.173     4.918   \n",
       "1  Colorado      8037       Eagle County       53653    30.040     5.169   \n",
       "2     Idaho     16067    Minidoka County       19226    34.070     5.611   \n",
       "3  Colorado      8113  San Miguel County        7558    10.154     4.747   \n",
       "4      Utah     49051     Wasatch County       21600    13.244     4.125   \n",
       "\n",
       "   female  unemployed  income  nodegree  bachelor  inactivity  obesity  \\\n",
       "0  45.996         2.5   68352       5.4      48.1         8.1     13.1   \n",
       "1  47.231         3.1   76661      10.1      47.3         9.4     11.8   \n",
       "2  49.318         3.7   46332      24.1      11.8        18.3     34.2   \n",
       "3  46.808         3.7   59603       4.7      54.4        12.4     16.7   \n",
       "4  48.812         3.4   65207       9.5      34.4        13.9     23.0   \n",
       "\n",
       "   density  cancer  votergap   trump  clinton  \n",
       "0     46.0    46.2   -27.632  31.530   59.162  \n",
       "1     31.0    47.1   -19.897  36.058   55.955  \n",
       "2     80.0    61.8    54.148  71.135   16.987  \n",
       "3      5.7    62.6   -44.769  23.892   68.662  \n",
       "4    257.8    68.3    25.357  50.471   25.114  "
      ]
     },
     "execution_count": 2,
     "metadata": {},
     "output_type": "execute_result"
    }
   ],
   "source": [
    "df.head()"
   ]
  },
  {
   "cell_type": "markdown",
   "id": "e24c24da-9f99-4dc3-9f4e-3c0dd9bce9fd",
   "metadata": {},
   "source": [
    "## Bagging / Random Forest\n",
    "We are going to be using test and training splits, cross validation, and fitting a random forest to the data. "
   ]
  },
  {
   "cell_type": "code",
   "execution_count": 3,
   "id": "3b2b0f92-5c4c-48a1-9eb7-7ee14560b230",
   "metadata": {},
   "outputs": [],
   "source": [
    "# Create an 80/20 Train/Test split.\n",
    "\n",
    "from sklearn.model_selection import train_test_split, cross_val_score\n",
    "from sklearn.ensemble import RandomForestRegressor\n",
    "\n",
    "X = df.drop(columns=['state', 'fipscode', 'county', 'votergap', 'trump', 'clinton']).values\n",
    "y = df['votergap'].values\n",
    "X_train, X_test, y_train, y_test = train_test_split(X, y, test_size=0.2, random_state=1)"
   ]
  },
  {
   "cell_type": "code",
   "execution_count": 4,
   "id": "018a3bef-731e-4186-9f58-4ac06c69716d",
   "metadata": {},
   "outputs": [
    {
     "data": {
      "text/plain": [
       "0.9617578349278363"
      ]
     },
     "execution_count": 4,
     "metadata": {},
     "output_type": "execute_result"
    }
   ],
   "source": [
    "# Set the number of estimators to be 100, the features to be the square root of available features, \n",
    "# and iterate through depths (1-20). \n",
    "# Use only 5 folds for cross validation to save some compute resources. \n",
    "\n",
    "rfr = RandomForestRegressor(n_estimators = 100, max_features = 'sqrt', max_depth = 20, random_state = 1)\n",
    "rfr.fit(X_train, y_train)\n",
    "rfr.score(X_train, y_train)"
   ]
  },
  {
   "cell_type": "code",
   "execution_count": 5,
   "id": "eb82cc09-3689-4a20-9966-90da5d7f12b2",
   "metadata": {},
   "outputs": [
    {
     "data": {
      "text/plain": [
       "0.7451592857438883"
      ]
     },
     "execution_count": 5,
     "metadata": {},
     "output_type": "execute_result"
    }
   ],
   "source": [
    "cross_val_score(rfr, X, y, cv=5).mean()"
   ]
  },
  {
   "cell_type": "code",
   "execution_count": 6,
   "id": "97202e99-fa0a-4cb4-bec2-efce3f2c616f",
   "metadata": {},
   "outputs": [],
   "source": [
    "acc_train = {}\n",
    "acc_cv = {}\n",
    "\n",
    "for i in range(20):\n",
    "    rfr_i = RandomForestRegressor(n_estimators = 100, max_features = 'sqrt', max_depth = i+1, random_state = 1)\n",
    "    rfr_i.fit(X_train,y_train)\n",
    "    \n",
    "    score_train = rfr_i.score(X_train, y_train)\n",
    "    acc_train[i+1] = score_train\n",
    "    \n",
    "    score_CV = cross_val_score(estimator=rfr_i, X=X, y=y, cv=5)\n",
    "    acc_cv[i+1] = score_CV.mean()"
   ]
  },
  {
   "cell_type": "code",
   "execution_count": 7,
   "id": "d4d5f23e-c70c-4723-8ef0-1a2790d76a5b",
   "metadata": {},
   "outputs": [
    {
     "data": {
      "image/png": "[encoded data removed]",
      "text/plain": [
       "<Figure size 432x288 with 1 Axes>"
      ]
     },
     "metadata": {
      "needs_background": "light"
     },
     "output_type": "display_data"
    }
   ],
   "source": [
    "# Plot the max depth on the x axis and the accuracy on the y axis for training and for the mean cross validation.\n",
    "\n",
    "plt.plot(acc_train.keys(), acc_train.values(), color='b', label='Train')\n",
    "plt.plot(acc_cv.keys(), acc_cv.values(), color='r', label='CV')\n",
    "plt.xlabel('Nodes')\n",
    "plt.ylabel('Accuracy')\n",
    "plt.title('Number of Nodes (Max Depth) against Accuracy')\n",
    "plt.legend()\n",
    "plt.show()"
   ]
  },
  {
   "cell_type": "code",
   "execution_count": 8,
   "id": "e2124c99-f537-494c-a1fc-b06bcf2c2bc2",
   "metadata": {},
   "outputs": [
    {
     "data": {
      "text/plain": [
       "{1: 0.23269802490252217,\n",
       " 2: 0.39421116643865145,\n",
       " 3: 0.5088835311432461,\n",
       " 4: 0.5739293148272825,\n",
       " 5: 0.6295278654389952,\n",
       " 6: 0.6619127209366991,\n",
       " 7: 0.6850511973332558,\n",
       " 8: 0.7042659236786638,\n",
       " 9: 0.7174824908466639,\n",
       " 10: 0.7227596941866118,\n",
       " 11: 0.7314770219197809,\n",
       " 12: 0.7393830231835045,\n",
       " 13: 0.7399824462181785,\n",
       " 14: 0.742202006831109,\n",
       " 15: 0.7439022431188989,\n",
       " 16: 0.7439817256638868,\n",
       " 17: 0.745658617405458,\n",
       " 18: 0.7451607726071579,\n",
       " 19: 0.7444589115187317,\n",
       " 20: 0.7451592857438883}"
      ]
     },
     "execution_count": 8,
     "metadata": {},
     "output_type": "execute_result"
    }
   ],
   "source": [
    "acc_cv"
   ]
  },
  {
   "cell_type": "code",
   "execution_count": 9,
   "id": "f8e3e386-4100-4acd-b434-341bd4fded3d",
   "metadata": {},
   "outputs": [
    {
     "name": "stdout",
     "output_type": "stream",
     "text": [
      "Max accuracy 0.7457 at [17] nodes.\n"
     ]
    }
   ],
   "source": [
    "print(\"Max accuracy {0:.4f} at {1} nodes.\".format(\n",
    "    max(acc_cv.values()), \n",
    "    [i for i in acc_cv if acc_cv[i]==max(acc_cv.values())]))"
   ]
  },
  {
   "cell_type": "markdown",
   "id": "be49c930-e4b7-4734-b75a-501ecd2fbdf8",
   "metadata": {},
   "source": [
    "Based on the plot, how many nodes would you recommend as the max depth?\n",
    "\n",
    "- Max accuracy is at 17 nodes. However, models with nodes above 12 all have very similar accuracy. \n",
    "\n",
    "What is the accuracy (mean cv) at your chosen depth?\n",
    "\n",
    "- 0.7457\n",
    "\n",
    "The cross validation looks different than the lab, why?\n",
    "\n",
    "- Random forest model uses bagging, which focuses on reducing variance and thus would prevent overfitting. "
   ]
  },
  {
   "cell_type": "markdown",
   "id": "b580ba5a-ea75-45fd-b69e-8e5d0b6c9104",
   "metadata": {},
   "source": [
    "## Boosting / XGBoost"
   ]
  },
  {
   "cell_type": "code",
   "execution_count": 10,
   "id": "c3f5d451-7603-4f67-a531-637a03d36601",
   "metadata": {},
   "outputs": [
    {
     "data": {
      "text/plain": [
       "0.9999999996481782"
      ]
     },
     "execution_count": 10,
     "metadata": {},
     "output_type": "execute_result"
    }
   ],
   "source": [
    "# Use the defaults for most parameters. Iterate through depths (1-20). \n",
    "# Use only 5 folds for cross validation to save some compute resources. \n",
    "\n",
    "import xgboost as xgb\n",
    "\n",
    "xgb_regr = xgb.XGBRegressor(max_depth=20, random_state=1)\n",
    "xgb_regr.fit(X_train, y_train)\n",
    "xgb_regr.score(X_train, y_train)"
   ]
  },
  {
   "cell_type": "code",
   "execution_count": 11,
   "id": "d2ade9e8-7139-438b-bf96-3e85d378e1da",
   "metadata": {},
   "outputs": [
    {
     "data": {
      "text/plain": [
       "0.7119758228108553"
      ]
     },
     "execution_count": 11,
     "metadata": {},
     "output_type": "execute_result"
    }
   ],
   "source": [
    "cross_val_score(xgb_regr, X, y, cv=5).mean()"
   ]
  },
  {
   "cell_type": "code",
   "execution_count": 12,
   "id": "65c8b35c-3652-4203-a9dd-f5ff5b2a1ff2",
   "metadata": {},
   "outputs": [],
   "source": [
    "acc_train = {}\n",
    "acc_cv = {}\n",
    "\n",
    "for i in range(20):\n",
    "    xgb_regr_i = xgb.XGBRegressor(max_depth = i+1, random_state = 1)\n",
    "    xgb_regr_i.fit(X_train,y_train)\n",
    "    \n",
    "    score_train = xgb_regr_i.score(X_train, y_train)\n",
    "    acc_train[i+1] = score_train\n",
    "    \n",
    "    score_CV = cross_val_score(estimator=xgb_regr_i, X=X, y=y, cv=5)\n",
    "    acc_cv[i+1] = score_CV.mean()"
   ]
  },
  {
   "cell_type": "code",
   "execution_count": 13,
   "id": "603fb755-b7e1-4262-a2a9-002311a6619b",
   "metadata": {},
   "outputs": [
    {
     "data": {
      "image/png": "[encoded data removed]",
      "text/plain": [
       "<Figure size 432x288 with 1 Axes>"
      ]
     },
     "metadata": {
      "needs_background": "light"
     },
     "output_type": "display_data"
    }
   ],
   "source": [
    "# Plot the max depth on the x axis and the accuracy on the y axis for training and for the mean cross validation.\n",
    "    \n",
    "plt.plot(acc_train.keys(), acc_train.values(), color='b', label='Train')\n",
    "plt.plot(acc_cv.keys(), acc_cv.values(), color='r', label='CV')\n",
    "plt.xlabel('Nodes')\n",
    "plt.ylabel('Accuracy')\n",
    "plt.title('Number of Nodes (Max Depth) against Accuracy')\n",
    "plt.legend()\n",
    "plt.show()"
   ]
  },
  {
   "cell_type": "code",
   "execution_count": 14,
   "id": "327d9c1c-9ed2-42f5-9449-c2a78e69c267",
   "metadata": {},
   "outputs": [
    {
     "data": {
      "text/plain": [
       "{1: 0.7112744915380792,\n",
       " 2: 0.7458977022968002,\n",
       " 3: 0.7488029395750487,\n",
       " 4: 0.7373879272350942,\n",
       " 5: 0.7329354325393634,\n",
       " 6: 0.7440319376336519,\n",
       " 7: 0.7309652590144096,\n",
       " 8: 0.7361998615825635,\n",
       " 9: 0.7337110929876967,\n",
       " 10: 0.7261314181601547,\n",
       " 11: 0.7230437003904394,\n",
       " 12: 0.7227632918652613,\n",
       " 13: 0.7215153582002268,\n",
       " 14: 0.7149944913896935,\n",
       " 15: 0.7179853706016829,\n",
       " 16: 0.7100614407519468,\n",
       " 17: 0.7105409735649844,\n",
       " 18: 0.7088441831395411,\n",
       " 19: 0.7071412578115385,\n",
       " 20: 0.7119758228108553}"
      ]
     },
     "execution_count": 14,
     "metadata": {},
     "output_type": "execute_result"
    }
   ],
   "source": [
    "acc_cv"
   ]
  },
  {
   "cell_type": "code",
   "execution_count": 15,
   "id": "202d112f-2254-498d-b2ab-ecb2c81329f2",
   "metadata": {},
   "outputs": [
    {
     "name": "stdout",
     "output_type": "stream",
     "text": [
      "Max accuracy 0.7488 at [3] nodes.\n"
     ]
    }
   ],
   "source": [
    "print(\"Max accuracy {0:.4f} at {1} nodes.\".format(\n",
    "    max(acc_cv.values()), \n",
    "    [i for i in acc_cv if acc_cv[i]==max(acc_cv.values())]))"
   ]
  },
  {
   "cell_type": "markdown",
   "id": "a4c8d762-36b7-4d9b-aef6-1070c303a79a",
   "metadata": {},
   "source": [
    "Based on the plot, how many nodes would you recommend as the max depth?\n",
    "\n",
    "- Model with 3 nodes would have the highest accuracy.\n",
    "\n",
    "What is the accuracy (mean cv) at your chosen depth?\n",
    "\n",
    "- 0.7488\n",
    "\n",
    "The cross validation looks different than random forest, why?\n",
    "\n",
    "- Boosting focuses on bias reduction, while bagging aims to reduce variance. XGBoost can have good performance with little hyperparameter tuning."
   ]
  },
  {
   "cell_type": "code",
   "execution_count": null,
   "id": "05a0a0e3-a5be-4538-b025-4c2e07573030",
   "metadata": {},
   "outputs": [],
   "source": []
  }
 ],
 "metadata": {
  "kernelspec": {
   "display_name": "Python 3",
   "language": "python",
   "name": "python3"
  },
  "language_info": {
   "codemirror_mode": {
    "name": "ipython",
    "version": 3
   },
   "file_extension": ".py",
   "mimetype": "text/x-python",
   "name": "python",
   "nbconvert_exporter": "python",
   "pygments_lexer": "ipython3",
   "version": "3.8.8"
  }
 },
 "nbformat": 4,
 "nbformat_minor": 5
}
