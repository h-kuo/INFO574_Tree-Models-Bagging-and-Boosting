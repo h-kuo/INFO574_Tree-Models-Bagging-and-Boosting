{
 "cells": [
  {
   "cell_type": "markdown",
   "id": "d1eda60d-4b12-4284-8070-1723da650635",
   "metadata": {},
   "source": [
    "# Lab 10 (module 11)\n",
    "Hao-Tien Kuo"
   ]
  },
  {
   "cell_type": "markdown",
   "id": "bc6fd2e1-b833-46b5-9246-973853380b56",
   "metadata": {},
   "source": [
    "## Exploratory Data Analysis"
   ]
  },
  {
   "cell_type": "code",
   "execution_count": 1,
   "id": "788e2851-f949-4a61-8e21-b3872fba423e",
   "metadata": {},
   "outputs": [],
   "source": [
    "import numpy as np\n",
    "import pandas as pd\n",
    "import statistics\n",
    "import seaborn as sns\n",
    "import matplotlib.pyplot as plt\n",
    "\n",
    "df = pd.read_csv('county_level_election.csv')"
   ]
  },
  {
   "cell_type": "code",
   "execution_count": 2,
   "id": "5108b727-1c4c-416c-a5a6-097470934908",
   "metadata": {},
   "outputs": [
    {
     "data": {
      "text/html": [
       "<div>\n",
       "<style scoped>\n",
       "    .dataframe tbody tr th:only-of-type {\n",
       "        vertical-align: middle;\n",
       "    }\n",
       "\n",
       "    .dataframe tbody tr th {\n",
       "        vertical-align: top;\n",
       "    }\n",
       "\n",
       "    .dataframe thead th {\n",
       "        text-align: right;\n",
       "    }\n",
       "</style>\n",
       "<table border=\"1\" class=\"dataframe\">\n",
       "  <thead>\n",
       "    <tr style=\"text-align: right;\">\n",
       "      <th></th>\n",
       "      <th>state</th>\n",
       "      <th>fipscode</th>\n",
       "      <th>county</th>\n",
       "      <th>population</th>\n",
       "      <th>hispanic</th>\n",
       "      <th>minority</th>\n",
       "      <th>female</th>\n",
       "      <th>unemployed</th>\n",
       "      <th>income</th>\n",
       "      <th>nodegree</th>\n",
       "      <th>bachelor</th>\n",
       "      <th>inactivity</th>\n",
       "      <th>obesity</th>\n",
       "      <th>density</th>\n",
       "      <th>cancer</th>\n",
       "      <th>votergap</th>\n",
       "      <th>trump</th>\n",
       "      <th>clinton</th>\n",
       "    </tr>\n",
       "  </thead>\n",
       "  <tbody>\n",
       "    <tr>\n",
       "      <th>0</th>\n",
       "      <td>Colorado</td>\n",
       "      <td>8117</td>\n",
       "      <td>Summit County</td>\n",
       "      <td>27239</td>\n",
       "      <td>15.173</td>\n",
       "      <td>4.918</td>\n",
       "      <td>45.996</td>\n",
       "      <td>2.5</td>\n",
       "      <td>68352</td>\n",
       "      <td>5.4</td>\n",
       "      <td>48.1</td>\n",
       "      <td>8.1</td>\n",
       "      <td>13.1</td>\n",
       "      <td>46.0</td>\n",
       "      <td>46.2</td>\n",
       "      <td>-27.632</td>\n",
       "      <td>31.530</td>\n",
       "      <td>59.162</td>\n",
       "    </tr>\n",
       "    <tr>\n",
       "      <th>1</th>\n",
       "      <td>Colorado</td>\n",
       "      <td>8037</td>\n",
       "      <td>Eagle County</td>\n",
       "      <td>53653</td>\n",
       "      <td>30.040</td>\n",
       "      <td>5.169</td>\n",
       "      <td>47.231</td>\n",
       "      <td>3.1</td>\n",
       "      <td>76661</td>\n",
       "      <td>10.1</td>\n",
       "      <td>47.3</td>\n",
       "      <td>9.4</td>\n",
       "      <td>11.8</td>\n",
       "      <td>31.0</td>\n",
       "      <td>47.1</td>\n",
       "      <td>-19.897</td>\n",
       "      <td>36.058</td>\n",
       "      <td>55.955</td>\n",
       "    </tr>\n",
       "    <tr>\n",
       "      <th>2</th>\n",
       "      <td>Idaho</td>\n",
       "      <td>16067</td>\n",
       "      <td>Minidoka County</td>\n",
       "      <td>19226</td>\n",
       "      <td>34.070</td>\n",
       "      <td>5.611</td>\n",
       "      <td>49.318</td>\n",
       "      <td>3.7</td>\n",
       "      <td>46332</td>\n",
       "      <td>24.1</td>\n",
       "      <td>11.8</td>\n",
       "      <td>18.3</td>\n",
       "      <td>34.2</td>\n",
       "      <td>80.0</td>\n",
       "      <td>61.8</td>\n",
       "      <td>54.148</td>\n",
       "      <td>71.135</td>\n",
       "      <td>16.987</td>\n",
       "    </tr>\n",
       "    <tr>\n",
       "      <th>3</th>\n",
       "      <td>Colorado</td>\n",
       "      <td>8113</td>\n",
       "      <td>San Miguel County</td>\n",
       "      <td>7558</td>\n",
       "      <td>10.154</td>\n",
       "      <td>4.747</td>\n",
       "      <td>46.808</td>\n",
       "      <td>3.7</td>\n",
       "      <td>59603</td>\n",
       "      <td>4.7</td>\n",
       "      <td>54.4</td>\n",
       "      <td>12.4</td>\n",
       "      <td>16.7</td>\n",
       "      <td>5.7</td>\n",
       "      <td>62.6</td>\n",
       "      <td>-44.769</td>\n",
       "      <td>23.892</td>\n",
       "      <td>68.662</td>\n",
       "    </tr>\n",
       "    <tr>\n",
       "      <th>4</th>\n",
       "      <td>Utah</td>\n",
       "      <td>49051</td>\n",
       "      <td>Wasatch County</td>\n",
       "      <td>21600</td>\n",
       "      <td>13.244</td>\n",
       "      <td>4.125</td>\n",
       "      <td>48.812</td>\n",
       "      <td>3.4</td>\n",
       "      <td>65207</td>\n",
       "      <td>9.5</td>\n",
       "      <td>34.4</td>\n",
       "      <td>13.9</td>\n",
       "      <td>23.0</td>\n",
       "      <td>257.8</td>\n",
       "      <td>68.3</td>\n",
       "      <td>25.357</td>\n",
       "      <td>50.471</td>\n",
       "      <td>25.114</td>\n",
       "    </tr>\n",
       "  </tbody>\n",
       "</table>\n",
       "</div>"
      ],
      "text/plain": [
       "      state  fipscode             county  population  hispanic  minority  \\\n",
       "0  Colorado      8117      Summit County       27239    15.173     4.918   \n",
       "1  Colorado      8037       Eagle County       53653    30.040     5.169   \n",
       "2     Idaho     16067    Minidoka County       19226    34.070     5.611   \n",
       "3  Colorado      8113  San Miguel County        7558    10.154     4.747   \n",
       "4      Utah     49051     Wasatch County       21600    13.244     4.125   \n",
       "\n",
       "   female  unemployed  income  nodegree  bachelor  inactivity  obesity  \\\n",
       "0  45.996         2.5   68352       5.4      48.1         8.1     13.1   \n",
       "1  47.231         3.1   76661      10.1      47.3         9.4     11.8   \n",
       "2  49.318         3.7   46332      24.1      11.8        18.3     34.2   \n",
       "3  46.808         3.7   59603       4.7      54.4        12.4     16.7   \n",
       "4  48.812         3.4   65207       9.5      34.4        13.9     23.0   \n",
       "\n",
       "   density  cancer  votergap   trump  clinton  \n",
       "0     46.0    46.2   -27.632  31.530   59.162  \n",
       "1     31.0    47.1   -19.897  36.058   55.955  \n",
       "2     80.0    61.8    54.148  71.135   16.987  \n",
       "3      5.7    62.6   -44.769  23.892   68.662  \n",
       "4    257.8    68.3    25.357  50.471   25.114  "
      ]
     },
     "execution_count": 2,
     "metadata": {},
     "output_type": "execute_result"
    }
   ],
   "source": [
    "df.head()"
   ]
  },
  {
   "cell_type": "code",
   "execution_count": 7,
   "id": "93a105d6-d9ed-4465-849d-6a9dbd8d7bd4",
   "metadata": {},
   "outputs": [
    {
     "data": {
      "text/plain": [
       "-2.7885068043713823"
      ]
     },
     "execution_count": 7,
     "metadata": {},
     "output_type": "execute_result"
    }
   ],
   "source": [
    "# Estimate the national overall votergap, assuming the entire population voted?\n",
    "\n",
    "np.dot(df['population'], df['votergap']) / df['population'].sum()"
   ]
  },
  {
   "cell_type": "code",
   "execution_count": 8,
   "id": "e9b9d5cf-b537-4e20-81b6-ed170aa3bd0d",
   "metadata": {},
   "outputs": [
    {
     "data": {
      "text/plain": [
       "state     county           \n",
       "Alabama   Autauga County       1\n",
       "Ohio      Paulding County      1\n",
       "          Mercer County        1\n",
       "          Miami County         1\n",
       "          Monroe County        1\n",
       "                              ..\n",
       "Kentucky  Lincoln County       1\n",
       "          Livingston County    1\n",
       "          Logan County         1\n",
       "          Lyon County          1\n",
       "Wyoming   Weston County        1\n",
       "Length: 3066, dtype: int64"
      ]
     },
     "execution_count": 8,
     "metadata": {},
     "output_type": "execute_result"
    }
   ],
   "source": [
    "df[['state', 'county']].value_counts()"
   ]
  },
  {
   "cell_type": "code",
   "execution_count": 9,
   "id": "62665852-a4af-4835-b849-86a074a8e413",
   "metadata": {},
   "outputs": [
    {
     "data": {
      "text/plain": [
       "state     county             fipscode\n",
       "Alabama   Autauga County     1001        1\n",
       "Ohio      Paulding County    39125       1\n",
       "          Mercer County      39107       1\n",
       "          Miami County       39109       1\n",
       "          Monroe County      39111       1\n",
       "                                        ..\n",
       "Kentucky  Lincoln County     21137       1\n",
       "          Livingston County  21139       1\n",
       "          Logan County       21141       1\n",
       "          Lyon County        21143       1\n",
       "Wyoming   Weston County      56045       1\n",
       "Length: 3066, dtype: int64"
      ]
     },
     "execution_count": 9,
     "metadata": {},
     "output_type": "execute_result"
    }
   ],
   "source": [
    "df[['state', 'county', 'fipscode']].value_counts()"
   ]
  },
  {
   "cell_type": "code",
   "execution_count": 10,
   "id": "645781dd-8aa3-48c0-8198-24357218660e",
   "metadata": {},
   "outputs": [
    {
     "data": {
      "text/plain": [
       "31.723198303979103"
      ]
     },
     "execution_count": 10,
     "metadata": {},
     "output_type": "execute_result"
    }
   ],
   "source": [
    "# What is the average votergap, assuming all counties are weighted equally?\n",
    "\n",
    "df['votergap'].mean()"
   ]
  },
  {
   "cell_type": "code",
   "execution_count": 11,
   "id": "49e75f2c-8659-4701-80b2-d9feb003c432",
   "metadata": {},
   "outputs": [
    {
     "data": {
      "text/plain": [
       "2.9734235672898257"
      ]
     },
     "execution_count": 11,
     "metadata": {},
     "output_type": "execute_result"
    }
   ],
   "source": [
    "# What is the average votergap, assuming all states are weighted equally?\n",
    "\n",
    "df_states = pd.DataFrame()\n",
    "df_states['state'] = df['state']\n",
    "df_states['votergap_n'] = df['population'] * df['votergap']\n",
    "df_states['population'] = df['population']\n",
    "\n",
    "np.mean(df_states.groupby(['state'])['votergap_n'].sum() / df_states.groupby(['state'])['population'].sum())"
   ]
  },
  {
   "cell_type": "markdown",
   "id": "82be1603-abd1-4435-b457-47a6d0a771d1",
   "metadata": {},
   "source": [
    "## Decision Trees\n",
    "We are going to be using test and training splits, cross validation, and fitting a decision tree regressor to the data."
   ]
  },
  {
   "cell_type": "code",
   "execution_count": 60,
   "id": "73ef536f-8101-4684-afa5-3e0c83b32d08",
   "metadata": {},
   "outputs": [],
   "source": [
    "# Create an 80/20 Train/Test split. \n",
    "# Using 10 folds cross validation fit decision trees having depths between 1 and 20 nodes.\n",
    "\n",
    "from sklearn.model_selection import train_test_split, cross_val_score\n",
    "from sklearn.tree import DecisionTreeRegressor\n",
    "\n",
    "X = df.drop(columns=['state', 'fipscode', 'county', 'votergap', 'trump', 'clinton']).values\n",
    "y = df['votergap'].values\n",
    "X_train, X_test, y_train, y_test = train_test_split(X, y, test_size=0.2, random_state=1)"
   ]
  },
  {
   "cell_type": "code",
   "execution_count": 61,
   "id": "fb3b2060-06b1-4600-b161-6ef26ac786f7",
   "metadata": {},
   "outputs": [],
   "source": [
    "regr = DecisionTreeRegressor(max_depth=20, random_state=1)\n",
    "model = regr.fit(X_train, y_train)"
   ]
  },
  {
   "cell_type": "code",
   "execution_count": 62,
   "id": "63b01191-3e71-4e44-a8db-9154ef3b0fa3",
   "metadata": {},
   "outputs": [
    {
     "data": {
      "text/plain": [
       "0.9967362727175921"
      ]
     },
     "execution_count": 62,
     "metadata": {},
     "output_type": "execute_result"
    }
   ],
   "source": [
    "model.score(X_train, y_train) "
   ]
  },
  {
   "cell_type": "code",
   "execution_count": 63,
   "id": "23a8cff9-4eb2-4443-98b3-f1a3f7facb43",
   "metadata": {},
   "outputs": [
    {
     "data": {
      "text/plain": [
       "0.5465072503718709"
      ]
     },
     "execution_count": 63,
     "metadata": {},
     "output_type": "execute_result"
    }
   ],
   "source": [
    "model.score(X_test, y_test) "
   ]
  },
  {
   "cell_type": "code",
   "execution_count": 64,
   "id": "6fd2b1d9-df17-4c59-9d06-6b6dab87e12a",
   "metadata": {},
   "outputs": [
    {
     "data": {
      "text/plain": [
       "0.5218916617167779"
      ]
     },
     "execution_count": 64,
     "metadata": {},
     "output_type": "execute_result"
    }
   ],
   "source": [
    "cross_val_score(model, X, y, cv=10).mean()"
   ]
  },
  {
   "cell_type": "code",
   "execution_count": 65,
   "id": "20fffd53-a966-4de7-8c5e-b38a6f3b1f3b",
   "metadata": {},
   "outputs": [],
   "source": [
    "# Plot the number of nodes (max depth) on the X axis against the accuracy on the y axis, \n",
    "# with separate lines for the training data and the mean cross validation.\n",
    "\n",
    "acc_train = {}\n",
    "acc_cv = {}\n",
    "\n",
    "for i in range(20):\n",
    "    regr_i = DecisionTreeRegressor(max_depth=i+1, random_state=1)\n",
    "    regr_i.fit(X_train,y_train)\n",
    "    \n",
    "    score_train = regr_i.score(X_train, y_train)\n",
    "    acc_train[i+1] = score_train\n",
    "    \n",
    "    score_CV = cross_val_score(estimator=regr_i, X=X, y=y, cv=10)\n",
    "    acc_cv[i+1] = score_CV.mean()"
   ]
  },
  {
   "cell_type": "code",
   "execution_count": 66,
   "id": "c085c577-105b-46f7-8a03-56ac704b22c7",
   "metadata": {},
   "outputs": [
    {
     "data": {
      "image/png": "[encoded data removed]",
      "text/plain": [
       "<Figure size 432x288 with 1 Axes>"
      ]
     },
     "metadata": {
      "needs_background": "light"
     },
     "output_type": "display_data"
    }
   ],
   "source": [
    "plt.plot(acc_train.keys(), acc_train.values(), color='b', label='Train')\n",
    "plt.plot(acc_cv.keys(), acc_cv.values(), color='r', label='CV')\n",
    "plt.xlabel('Nodes')\n",
    "plt.ylabel('Accuracy')\n",
    "plt.title('Number of Nodes (Max Depth) against Accuracy')\n",
    "plt.legend()\n",
    "plt.show()"
   ]
  },
  {
   "cell_type": "code",
   "execution_count": 67,
   "id": "aed2f1f2-53d6-46ff-a44d-dc6666c6de3a",
   "metadata": {},
   "outputs": [
    {
     "data": {
      "text/plain": [
       "{9}"
      ]
     },
     "execution_count": 67,
     "metadata": {},
     "output_type": "execute_result"
    }
   ],
   "source": [
    " {i for i in acc_cv if acc_cv[i]==max(acc_cv.values())}"
   ]
  },
  {
   "cell_type": "markdown",
   "id": "c69b8717-8b16-4aba-9fca-afc28b472d3f",
   "metadata": {},
   "source": [
    "Based on the plot, how many nodes would you recommend as the max depth?\n",
    "\n",
    "- When there are 9 nodes, the model has the highest validation accuracy. \n",
    "\n",
    "The cross validation starts to fall off at a certain point, why?\n",
    "\n",
    "- When number of nodes increases, the model becomes more flexible and more complex, and to a certain point it will overfit the training data. Thus, we see higher training accuracy but decreasing validation accuracy on the right side of the plot."
   ]
  },
  {
   "cell_type": "code",
   "execution_count": null,
   "id": "99452939-c5db-4fca-8929-ec85a4c0fe82",
   "metadata": {},
   "outputs": [],
   "source": []
  }
 ],
 "metadata": {
  "kernelspec": {
   "display_name": "Python 3",
   "language": "python",
   "name": "python3"
  },
  "language_info": {
   "codemirror_mode": {
    "name": "ipython",
    "version": 3
   },
   "file_extension": ".py",
   "mimetype": "text/x-python",
   "name": "python",
   "nbconvert_exporter": "python",
   "pygments_lexer": "ipython3",
   "version": "3.8.8"
  }
 },
 "nbformat": 4,
 "nbformat_minor": 5
}
